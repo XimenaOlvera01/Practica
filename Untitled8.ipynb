{
  "nbformat": 4,
  "nbformat_minor": 0,
  "metadata": {
    "colab": {
      "name": "Untitled8.ipynb",
      "provenance": [],
      "authorship_tag": "ABX9TyOCCe7zitbt5B0UgmyI46PP",
      "include_colab_link": true
    },
    "kernelspec": {
      "name": "python3",
      "display_name": "Python 3"
    },
    "language_info": {
      "name": "python"
    }
  },
  "cells": [
    {
      "cell_type": "markdown",
      "metadata": {
        "id": "view-in-github",
        "colab_type": "text"
      },
      "source": [
        "<a href=\"https://colab.research.google.com/github/XimenaOlvera01/Practica/blob/main/Untitled8.ipynb\" target=\"_parent\"><img src=\"https://colab.research.google.com/assets/colab-badge.svg\" alt=\"Open In Colab\"/></a>"
      ]
    },
    {
      "cell_type": "markdown",
      "source": [
        "# Codigo donde se escriba un texto\n",
        "Elaborado por Maria Ximena Olvera Mata\n",
        "25/agosto/2022"
      ],
      "metadata": {
        "id": "uyHEXypmNCSr"
      }
    },
    {
      "cell_type": "code",
      "source": [
        "text = \"Se le extraña demasiado al general en la capital del corrido La capital es Culiacán y no está sola porque aquí siguen sus hijos Es el jefe, lo es y lo era Gira y se para la tierra si Joaquín lo ordena Un viernes me pararon en mi carro porque andaba velozmente Nos dijeron Aquí andamos patrullando 24/7 No se asusten si miran retenes Y menos si cargan las gorras de JGL\"\n",
        "substring = \"capital\"\n",
        "\n",
        "total_occurrences = text.count(substring)\n",
        "\n",
        "print(\"LA PALABRA SE REPITE \" + str(total_occurrences) )"
      ],
      "metadata": {
        "colab": {
          "base_uri": "https://localhost:8080/"
        },
        "id": "4e_YNm9MOiJO",
        "outputId": "ddf84167-d552-4180-a4fd-164cca442c8a"
      },
      "execution_count": 33,
      "outputs": [
        {
          "output_type": "stream",
          "name": "stdout",
          "text": [
            "LA PALABRA SE REPITE 2\n"
          ]
        }
      ]
    }
  ]
}