{
  "nbformat": 4,
  "nbformat_minor": 0,
  "metadata": {
    "colab": {
      "name": "Untitled4.ipynb",
      "provenance": [],
      "authorship_tag": "ABX9TyMLzoWipahZbmplTJpcSySA",
      "include_colab_link": true
    },
    "kernelspec": {
      "name": "python3",
      "display_name": "Python 3"
    },
    "language_info": {
      "name": "python"
    }
  },
  "cells": [
    {
      "cell_type": "markdown",
      "metadata": {
        "id": "view-in-github",
        "colab_type": "text"
      },
      "source": [
        "<a href=\"https://colab.research.google.com/github/XimenaOlvera01/Practica/blob/main/Untitled4.ipynb\" target=\"_parent\"><img src=\"https://colab.research.google.com/assets/colab-badge.svg\" alt=\"Open In Colab\"/></a>"
      ]
    },
    {
      "cell_type": "markdown",
      "source": [
        "# Pedir un numero e imprimir la tabla de multiplicar de ese numero.\n",
        "- Elaborado por Maria Ximena Olvera Mata\n",
        "- 23/agosto/2022"
      ],
      "metadata": {
        "id": "uhyXCiB5JcFk"
      }
    },
    {
      "cell_type": "code",
      "source": [
        "i= 1 \n",
        "m=int (input(\"Escribe la tabla\"))\n",
        "while (i!=11):\n",
        "  print (m, \"1x \",i,\"=\",m*i)\n",
        "  i=i+1\n"
      ],
      "metadata": {
        "colab": {
          "base_uri": "https://localhost:8080/"
        },
        "id": "x3e0K7cJJnTY",
        "outputId": "6a12aa13-143a-45f7-975e-ce3b4a4cb812"
      },
      "execution_count": 4,
      "outputs": [
        {
          "output_type": "stream",
          "name": "stdout",
          "text": [
            "Escribe la tabla8\n",
            "8 1x  1 = 8\n",
            "8 1x  2 = 16\n",
            "8 1x  3 = 24\n",
            "8 1x  4 = 32\n",
            "8 1x  5 = 40\n",
            "8 1x  6 = 48\n",
            "8 1x  7 = 56\n",
            "8 1x  8 = 64\n",
            "8 1x  9 = 72\n",
            "8 1x  10 = 80\n"
          ]
        }
      ]
    }
  ]
}