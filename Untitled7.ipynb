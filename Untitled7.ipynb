{
  "nbformat": 4,
  "nbformat_minor": 0,
  "metadata": {
    "colab": {
      "name": "Untitled7.ipynb",
      "provenance": [],
      "authorship_tag": "ABX9TyOtSSV1jbVJz3ctlbT2kUx8",
      "include_colab_link": true
    },
    "kernelspec": {
      "name": "python3",
      "display_name": "Python 3"
    },
    "language_info": {
      "name": "python"
    }
  },
  "cells": [
    {
      "cell_type": "markdown",
      "metadata": {
        "id": "view-in-github",
        "colab_type": "text"
      },
      "source": [
        "<a href=\"https://colab.research.google.com/github/XimenaOlvera01/Practica/blob/main/Untitled7.ipynb\" target=\"_parent\"><img src=\"https://colab.research.google.com/assets/colab-badge.svg\" alt=\"Open In Colab\"/></a>"
      ]
    },
    {
      "cell_type": "markdown",
      "source": [
        "# Programa que contine un menu de figuras geometricas, donde al seleccionar una opcion nos dira com obtener el area.\n",
        "Elaborado por Maria Ximena Olvera Mata.\n",
        "24/08/2022"
      ],
      "metadata": {
        "id": "EsiLXSIrSEYD"
      }
    },
    {
      "cell_type": "code",
      "source": [
        "opcion = '0'\n",
        "while not(opcion=='5'):\n",
        "    print(' 1. Circulo')\n",
        "    print(' 2. Triangulo')\n",
        "    print(' 3. Trapecio')\n",
        "    print(' 4. Rectangulo')\n",
        "    print(' 5. Salir')\n",
        "    \n",
        "\n",
        "    opcion=input(' Seleccione cualquier opcion : ')\n",
        "    \n",
        "    if (opcion=='1'):\n",
        "        print(' **** La formula para optener el area del circulo es (A = π r²) ****')\n",
        "        \n",
        "    elif (opcion=='2'):\n",
        "        print(' **** La formula para optener el area del triangulo es (b*a / 2)  ****')\n",
        "        \n",
        "    elif (opcion=='3'):\n",
        "        print(' **** La formula para optener el area del trapecio es (A=(a+b)/2 x h) ****')\n",
        "        \n",
        "    elif (opcion=='4'):\n",
        "        print(' **** La formula para optener el area del rectangulo es (L*A) ****')\n",
        "        \n",
        "    elif (opcion=='5'):\n",
        "        print(' **** Salir ****')\n",
        "       \n",
        "    else:\n",
        "        print('No existe la opcion')"
      ],
      "metadata": {
        "colab": {
          "base_uri": "https://localhost:8080/"
        },
        "id": "yCsk5pp_SGYA",
        "outputId": "70d0b99a-f12f-42e8-f6e7-202355b8df11"
      },
      "execution_count": null,
      "outputs": [
        {
          "output_type": "stream",
          "name": "stdout",
          "text": [
            " 1. Circulo\n",
            " 2. Triangulo\n",
            " 3. Trapecio\n",
            " 4. Rectangulo\n",
            " 5. Salir\n",
            " Seleccione cualquier opcion : 2\n",
            " **** La formula para optener el area del triangulo es (b*a / 2)  ****\n",
            " 1. Circulo\n",
            " 2. Triangulo\n",
            " 3. Trapecio\n",
            " 4. Rectangulo\n",
            " 5. Salir\n"
          ]
        }
      ]
    }
  ]
}