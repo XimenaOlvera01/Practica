{
  "nbformat": 4,
  "nbformat_minor": 0,
  "metadata": {
    "colab": {
      "name": "Untitled3.ipynb",
      "provenance": [],
      "authorship_tag": "ABX9TyPnAesiwSrsyavFq+1/YfZ2",
      "include_colab_link": true
    },
    "kernelspec": {
      "name": "python3",
      "display_name": "Python 3"
    },
    "language_info": {
      "name": "python"
    }
  },
  "cells": [
    {
      "cell_type": "markdown",
      "metadata": {
        "id": "view-in-github",
        "colab_type": "text"
      },
      "source": [
        "<a href=\"https://colab.research.google.com/github/XimenaOlvera01/Practica/blob/main/Untitled3.ipynb\" target=\"_parent\"><img src=\"https://colab.research.google.com/assets/colab-badge.svg\" alt=\"Open In Colab\"/></a>"
      ]
    },
    {
      "cell_type": "markdown",
      "source": [
        "# Pedir un numero e imprimir la tabla de multiplicar de ese numero.\n",
        "- Elaborado por Maria Ximena Olvera Mata\n",
        "- 23/agosto/2022"
      ],
      "metadata": {
        "id": "Hlzw2PlKE2uJ"
      }
    },
    {
      "cell_type": "code",
      "source": [
        "i = int (input(\"Escribe un numero del 1-10\"))\n",
        "for n in range(1, 11):\n",
        "  print(n, \"1x \",i,\"=\",n*i)"
      ],
      "metadata": {
        "colab": {
          "base_uri": "https://localhost:8080/"
        },
        "id": "44qx2wKyFSc8",
        "outputId": "33dcaadd-fd9c-4390-813e-dfee675699ff"
      },
      "execution_count": 4,
      "outputs": [
        {
          "output_type": "stream",
          "name": "stdout",
          "text": [
            "Escribe un numero del 1-106\n",
            "1 1x  6 = 6\n",
            "2 1x  6 = 12\n",
            "3 1x  6 = 18\n",
            "4 1x  6 = 24\n",
            "5 1x  6 = 30\n",
            "6 1x  6 = 36\n",
            "7 1x  6 = 42\n",
            "8 1x  6 = 48\n",
            "9 1x  6 = 54\n",
            "10 1x  6 = 60\n"
          ]
        }
      ]
    }
  ]
}