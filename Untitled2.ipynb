{
  "nbformat": 4,
  "nbformat_minor": 0,
  "metadata": {
    "colab": {
      "name": "Untitled2.ipynb",
      "provenance": [],
      "collapsed_sections": [],
      "authorship_tag": "ABX9TyOxWdwQuHtLzIc3f1ZHtThg",
      "include_colab_link": true
    },
    "kernelspec": {
      "name": "python3",
      "display_name": "Python 3"
    },
    "language_info": {
      "name": "python"
    }
  },
  "cells": [
    {
      "cell_type": "markdown",
      "metadata": {
        "id": "view-in-github",
        "colab_type": "text"
      },
      "source": [
        "<a href=\"https://colab.research.google.com/github/XimenaOlvera01/Practica/blob/main/Untitled2.ipynb\" target=\"_parent\"><img src=\"https://colab.research.google.com/assets/colab-badge.svg\" alt=\"Open In Colab\"/></a>"
      ]
    },
    {
      "cell_type": "markdown",
      "source": [
        "# Primer Programa Hola Mundo\n",
        "- Solicitamos el nombre del usuario\n",
        "- Saludamos\n",
        "\n",
        "Elaborado por: Maria Ximena Olvera Mata\n",
        "23/agosto/2022"
      ],
      "metadata": {
        "id": "S8GriTEh_An9"
      }
    },
    {
      "cell_type": "code",
      "source": [
        "nombreAlumno = input(\"Escribe tu nombre\")\n",
        "print(\"Hola \",nombreAlumno, \" Como estas\")"
      ],
      "metadata": {
        "colab": {
          "base_uri": "https://localhost:8080/"
        },
        "id": "6H4TGDfh_gC7",
        "outputId": "c6ec7eb6-5ec0-45ab-fb23-6ccba8a67481"
      },
      "execution_count": 5,
      "outputs": [
        {
          "output_type": "stream",
          "name": "stdout",
          "text": [
            "Escribe tu nombreXIM\n",
            "Hola  XIM  Como estas\n"
          ]
        }
      ]
    }
  ]
}