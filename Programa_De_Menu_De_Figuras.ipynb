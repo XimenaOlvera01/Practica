{
  "nbformat": 4,
  "nbformat_minor": 0,
  "metadata": {
    "colab": {
      "name": "Programa_De_Menu_De_Figuras",
      "provenance": [],
      "authorship_tag": "ABX9TyN4agzN/KKyhoy9oRNOmONP",
      "include_colab_link": true
    },
    "kernelspec": {
      "name": "python3",
      "display_name": "Python 3"
    },
    "language_info": {
      "name": "python"
    }
  },
  "cells": [
    {
      "cell_type": "markdown",
      "metadata": {
        "id": "view-in-github",
        "colab_type": "text"
      },
      "source": [
        "<a href=\"https://colab.research.google.com/github/XimenaOlvera01/Practica/blob/main/Programa_De_Menu_De_Figuras.ipynb\" target=\"_parent\"><img src=\"https://colab.research.google.com/assets/colab-badge.svg\" alt=\"Open In Colab\"/></a>"
      ]
    },
    {
      "cell_type": "markdown",
      "source": [
        "# Programa que contine un menu de figuras geometricas, donde al seleccionar una opcion nos dira com obtener el area.\n",
        "Elaborado por Maria Ximena Olvera Mata.\n",
        "24/08/2022"
      ],
      "metadata": {
        "id": "zLaYr5545MMD"
      }
    },
    {
      "cell_type": "code",
      "source": [
        "menuprincipal = int (input(\"Menu Principal: \\n 1.- Circulo \\n 2.- Rectangulo \\n 3.- Triangulo \\n 4.- Trapecio \\n 5.- Salir\"))\n",
        "while menuprincipal != 0:\n",
        "\n",
        " if menuprincipal == 1:\n",
        "\n",
        "  print (\"La formula para sacar el area del circulo es a*b \")\n",
        " elif menuprincipal == 2:\n",
        "    print(\"La formula para el rectangulo \")\n",
        " elif menuprincipal == 3:\n",
        "    print(\"La formula para el triangulo \")\n",
        " elif menuprincipal == 4:\n",
        "    print(\"La formula para el trapeio \")\n",
        " elif menuprincipal == 5:\n",
        "    print(\"Salir \")\n",
        "else:\n",
        "      print (\"ponga algo correcto\")\n",
        "\n",
        "\n"
      ],
      "metadata": {
        "id": "023A_f4S5nbf"
      },
      "execution_count": null,
      "outputs": []
    }
  ]
}