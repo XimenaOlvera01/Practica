{
  "nbformat": 4,
  "nbformat_minor": 0,
  "metadata": {
    "colab": {
      "name": "Practica Figuras con objetos",
      "provenance": [],
      "authorship_tag": "ABX9TyMkB23bkFI+tA8WNfAfs9Gk",
      "include_colab_link": true
    },
    "kernelspec": {
      "name": "python3",
      "display_name": "Python 3"
    },
    "language_info": {
      "name": "python"
    }
  },
  "cells": [
    {
      "cell_type": "markdown",
      "metadata": {
        "id": "view-in-github",
        "colab_type": "text"
      },
      "source": [
        "<a href=\"https://colab.research.google.com/github/XimenaOlvera01/Practica/blob/main/Practica_Figuras_con_objetos.ipynb\" target=\"_parent\"><img src=\"https://colab.research.google.com/assets/colab-badge.svg\" alt=\"Open In Colab\"/></a>"
      ]
    },
    {
      "cell_type": "markdown",
      "source": [
        "# Practica de Figuras con agregacion de Objetos.\n",
        "- Elaborado con Maria Ximena Olvera Mata\n",
        "- 26/08/2022"
      ],
      "metadata": {
        "id": "7qsIs3NBNdbI"
      }
    },
    {
      "cell_type": "code",
      "source": [
        "class Figuras:\n",
        "  def __init__( circulo, triangulo, trapecio, rectangulo):\n",
        "    self.circulo = circulo\n",
        "    self.triangulo = triangulo\n",
        "    self.trapecio = trapecio\n",
        "    self.rectangulo = rectangulo\n",
        "    \n",
        "\n",
        "    def getCirculo(self):\n",
        "      return self.circulo\n",
        "    def getTriangulo(self):\n",
        "      return self.triangulo\n",
        "    def getTrapecio(self):\n",
        "      return self.trapecio\n",
        "    def getRectangulo(self):\n",
        "      return self.rectangulo\n",
        "    \n",
        "\n",
        "    def mostrarProducto(self):\n",
        "      print(\"\\nCirculo: \" +self.getCirculo()+\"\\nTriangulo: \" +self.getTriangulo())+\"\\nTrapecio: \" +self.getTrapecio())+\"\\nRectangulo: \" +self.getRectangulo())\n",
        "      circulo = raw_input(\"Ingrese el area del circulo\")\n",
        "      triangulo = int(input(\"Ingesar el area del triangulo\"))\n",
        "      trapecio = int(input(\"Ingesar el area del trapecio\"))\n",
        "      rectngulo = int(input(\"Ingesar el area del rectangulo\"))\n",
        "      triangulo = int(input(\"Ingesar el area del triangulo\"))\n",
        "      e = Figuras(circulo, triangulo, trapecio, rectangulo)\n",
        "      e.mostrarFiguras()\n",
        "  \n",
        "\n",
        "\n",
        "\n",
        "  "
      ],
      "metadata": {
        "id": "ab_gsmMaODta"
      },
      "execution_count": null,
      "outputs": []
    }
  ]
}